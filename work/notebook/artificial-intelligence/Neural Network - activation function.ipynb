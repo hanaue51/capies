{
 "cells": [
  {
   "cell_type": "code",
   "execution_count": null,
   "metadata": {},
   "outputs": [],
   "source": [
    "import numpy as np\n",
    "import math\n",
    "import itertools\n",
    "import matplotlib.pyplot as plt"
   ]
  },
  {
   "cell_type": "code",
   "execution_count": null,
   "metadata": {},
   "outputs": [],
   "source": [
    "# 活性化関数\n",
    "\n",
    "# 重み付きユニットで入力から出力を求める手順\n",
    "# (1) 入力に対して重み付けした値の和を求める。\n",
    "# (2) (1)の和が0より大きければ1を出力し、そうでなければ0を出力する。\n",
    "\n",
    "# (2)では、重み付けした値の和に対して、以下の関数で出力値を求めている、と考えることができる。\n",
    "def step(z):\n",
    "    if z > 0:\n",
    "        return 1\n",
    "    else:\n",
    "        return 0\n",
    "\n",
    "# 上記で定義した関数はステップ関数と呼ばれる。\n",
    "# ステップ関数は、ユニットへの入力から出力を求める関数の一種とみることができる。\n",
    "# このように、入力値の総和から出力値を求める関数を、活性化関数と呼ぶ。\n",
    "\n",
    "# ニューラルネットワークは脳の神経系を参考にして考案されたモデルで、\n",
    "# 重み付きユニットが脳細胞(ニューロン)に対応する。\n",
    "# 脳細胞が信号を発することを「ニューロンが発火する」と言うことがあり、\n",
    "# 活性化関数はニューロンが発火する(重み付きユニットが1を出力する)条件を定めている。\n",
    "\n",
    "# ニューラルネットワークでは、活性化関数として次の関数を使用する。\n",
    "def sigmoid(z):\n",
    "    return 1 / (1 + math.exp(-z))\n",
    "\n",
    "# 上記で定義した関数はシグモイド関数と呼ばれる。\n",
    "\n",
    "for x in [-5, -1, 0, 1, 5]:\n",
    "  print(\"x = {0}  =>  step(x) = {1}, sigmoid(x) = {2}\".\n",
    "       format(x, step(x), sigmoid(x)))"
   ]
  },
  {
   "cell_type": "code",
   "execution_count": null,
   "metadata": {},
   "outputs": [],
   "source": [
    "# ステップ関数、シグモイド関数のグラフ表示\n",
    "\n",
    "# ステップ関数のグラフは階段状の折れ線状となるのに対し、\n",
    "# シグモイド関数のグラフはS字型の曲線となる。\n",
    "# ニューラルネットワークでは、学習のために活性化関数の微分が必要となるが、\n",
    "# ステップ関数では微分が定義できないため、ステップ関数の形状に近いシグモイド関数を使う。\n",
    "\n",
    "# 上記で定義した関数を、NumPyの配列で使えるようにする。\n",
    "step_func = np.frompyfunc(step, 1, 1)\n",
    "sigmoid_func = np.frompyfunc(sigmoid, 1, 1)\n",
    "\n",
    "# -5 <= x < 10 の範囲で、x座標を0.25間隔でとる。\n",
    "xs = np.arange(-5, 10, 0.25)\n",
    "\n",
    "# 上記のxの範囲に対して、各関数のグラフを描く。\n",
    "plt.plot(xs, step_func(xs), label=\"step\")\n",
    "plt.plot(xs, sigmoid_func(xs), label=\"sigmoid\")\n",
    "\n",
    "# グラフの題名\n",
    "plt.title(\"activation functions\")\n",
    "# 凡例\n",
    "plt.legend(bbox_to_anchor=(1.05, 1), loc='upper left', borderaxespad=0)\n",
    "\n",
    "# ラベル\n",
    "plt.xlabel(\"x\")\n",
    "plt.ylabel(\"y\")\n",
    "\n",
    "# グラフを表示する。\n",
    "plt.show()"
   ]
  },
  {
   "cell_type": "code",
   "execution_count": null,
   "metadata": {},
   "outputs": [],
   "source": [
    "# 活性化関数を使った重み付きゲートの実装\n",
    "def weighted_gate(x, w, activation):\n",
    "    # 入力に重み付けをした値の和を求める。\n",
    "    value = np.sum(x * w)\n",
    "    # 求めた和に対する活性化関数の値を求める。\n",
    "    return activation(value)\n",
    "\n",
    "fmt = \"(x0, x1) = ({0}, {1})  => step: {2}, sigmoid: {3}\"\n",
    "for signal in itertools.product([0, 1], repeat=2):\n",
    "    x = np.asarray([signal[0], signal[1], 1])\n",
    "    w = np.asarray([0.5, 0.5, -0.7])\n",
    "    print(fmt.format(x[0], x[1], weighted_gate(x, w, step), weighted_gate(x, w, sigmoid)))    "
   ]
  },
  {
   "cell_type": "code",
   "execution_count": null,
   "metadata": {},
   "outputs": [],
   "source": []
  }
 ],
 "metadata": {
  "kernelspec": {
   "display_name": "Python 3",
   "language": "python",
   "name": "python3"
  },
  "language_info": {
   "codemirror_mode": {
    "name": "ipython",
    "version": 3
   },
   "file_extension": ".py",
   "mimetype": "text/x-python",
   "name": "python",
   "nbconvert_exporter": "python",
   "pygments_lexer": "ipython3",
   "version": "3.7.1"
  }
 },
 "nbformat": 4,
 "nbformat_minor": 2
}
