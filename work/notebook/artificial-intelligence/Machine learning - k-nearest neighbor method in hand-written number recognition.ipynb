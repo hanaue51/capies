{
 "cells": [
  {
   "cell_type": "markdown",
   "metadata": {},
   "source": [
    "# k 近傍法による手書き文字の認識\n",
    "\n",
    "k 近傍法は、データを分類する方法の一つで、機械学習の方法としては最もシンプルなものです。<br>\n",
    "k 近傍法では、分類先のグループごとに k 個ずつの代表を用意しておきます。<br>\n",
    "未知のデータを分類するときには、各グループの代表との類似度を計算し、類似度が最も高い代表のグループに分類を行います。"
   ]
  },
  {
   "cell_type": "code",
   "execution_count": null,
   "metadata": {},
   "outputs": [],
   "source": [
    "# k近傍分類器による手書き数字の認識\n",
    "\n",
    "# 必要なモジュールをインポートする。\n",
    "import numpy as np\n",
    "import sklearn\n",
    "import sklearn.datasets as ds\n",
    "import sklearn.model_selection as ms\n",
    "import sklearn.neighbors as nb\n",
    "import matplotlib.pyplot as plt\n",
    "%matplotlib inline"
   ]
  },
  {
   "cell_type": "code",
   "execution_count": null,
   "metadata": {},
   "outputs": [],
   "source": [
    "# scikit-learnモジュールにあるdigitsデータセットを読み込む。\n",
    "# digitsデータセットには、人手でラベルが付けられた手書き数字のデータがある。\n",
    "digits = ds.load_digits()\n",
    "\n",
    "# 手書き数字画像のデータ\n",
    "X = digits.data\n",
    "# 人手で付けられたラベル\n",
    "y = digits.target\n",
    "\n",
    "# 1件目のデータ\n",
    "print(\"image:\")\n",
    "print(X[0].reshape(8, 8))\n",
    "# 1件目のラベル\n",
    "print(\"label: {0}\".format(y[0]))\n",
    "\n",
    "# 手書き数字画像の画素値の範囲(最小: 0, 最大: 16)\n",
    "print(X.min(), X.max())\n",
    "# データセットのサイズ\n",
    "# 行数(データの件数): 1797\n",
    "# 列数(各データの手書き数字画像の画素数): 64\n",
    "# ... 各行に 8 * 8ピクセル分の画素値が格納されている。\n",
    "print(X.shape)"
   ]
  },
  {
   "cell_type": "code",
   "execution_count": null,
   "metadata": {},
   "outputs": [],
   "source": [
    "# いくつかのデータを表示する。\n",
    "nrows, ncols = 2, 5\n",
    "plt.gray()\n",
    "for i in range(ncols * nrows):\n",
    "    ax = plt.subplot(nrows, ncols, i + 1)\n",
    "    ax.matshow(digits.images[i,...])\n",
    "    plt.xticks([])\n",
    "    plt.yticks([])\n",
    "    plt.title(digits.target[i])"
   ]
  },
  {
   "cell_type": "code",
   "execution_count": null,
   "metadata": {},
   "outputs": [],
   "source": [
    "# データを学習用と評価用に分ける。\n",
    "# 下の例では、評価用データの件数が、データ全体の25%となるように分割する。\n",
    "X_train, X_test, y_train, y_test = ms.train_test_split(X, y, test_size=.25)\n",
    "\n",
    "# k近傍分類器を作成する。\n",
    "knc = nb.KNeighborsClassifier()\n",
    "# 学習用のデータにk近傍分類器を適用し、分類モデルを学習する。\n",
    "knc.fit(X_train, y_train)"
   ]
  },
  {
   "cell_type": "code",
   "execution_count": null,
   "metadata": {},
   "outputs": [],
   "source": [
    "# 学習結果のモデルを評価用データに適用し、分類の精度を評価する。\n",
    "knc.score(X_test, y_test)"
   ]
  },
  {
   "cell_type": "code",
   "execution_count": null,
   "metadata": {},
   "outputs": [],
   "source": [
    "# 検証用のデータを作り、学習したモデルで正しく認識できるかどうかを調べる。\n",
    "# 「1」のデータを作る。\n",
    "one = np.zeros((8, 8))\n",
    "one[1:-1,4] = 16\n",
    "one[2,3] = 16"
   ]
  },
  {
   "cell_type": "code",
   "execution_count": null,
   "metadata": {},
   "outputs": [],
   "source": [
    "# 作ったデータを表示する。\n",
    "plt.imshow(one, interpolation='none')\n",
    "plt.grid(False)\n",
    "plt.xticks()\n",
    "plt.yticks()\n",
    "plt.title(\"One\")"
   ]
  },
  {
   "cell_type": "code",
   "execution_count": null,
   "metadata": {
    "scrolled": true
   },
   "outputs": [],
   "source": [
    "# 学習済みのモデルを上記で作ったデータに適用し、認識結果を確認する。\n",
    "knc.predict(one.ravel().reshape(1, -1))"
   ]
  },
  {
   "cell_type": "code",
   "execution_count": null,
   "metadata": {},
   "outputs": [],
   "source": []
  }
 ],
 "metadata": {
  "kernelspec": {
   "display_name": "Python 3",
   "language": "python",
   "name": "python3"
  },
  "language_info": {
   "codemirror_mode": {
    "name": "ipython",
    "version": 3
   },
   "file_extension": ".py",
   "mimetype": "text/x-python",
   "name": "python",
   "nbconvert_exporter": "python",
   "pygments_lexer": "ipython3",
   "version": "3.8.8"
  }
 },
 "nbformat": 4,
 "nbformat_minor": 4
}
