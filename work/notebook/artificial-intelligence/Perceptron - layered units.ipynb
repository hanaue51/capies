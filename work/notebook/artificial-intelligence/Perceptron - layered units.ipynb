{
 "cells": [
  {
   "cell_type": "code",
   "execution_count": 1,
   "metadata": {},
   "outputs": [],
   "source": [
    "import itertools\n",
    "import numpy as np"
   ]
  },
  {
   "cell_type": "code",
   "execution_count": 4,
   "metadata": {},
   "outputs": [
    {
     "name": "stdout",
     "output_type": "stream",
     "text": [
      "(x0, x1, x2) = (0, 0, 0)  =>  AND3(x0, x1, x2) = 0\n",
      "(x0, x1, x2) = (1, 0, 0)  =>  AND3(x0, x1, x2) = 0\n",
      "(x0, x1, x2) = (1, 1, 0)  =>  AND3(x0, x1, x2) = 0\n",
      "(x0, x1, x2) = (1, 1, 1)  =>  AND3(x0, x1, x2) = 1\n"
     ]
    }
   ],
   "source": [
    "# 重み付きユニットの一般化(step 2)\n",
    "\n",
    "# しきい値を重みの一つとみなすと、計算式を簡略化できる。\n",
    "# 入力: x, 重み: w, しきい値: tの場合、\n",
    "# x * w と t の比較は、x * w - t と 0 の比較と同じ意味になる。\n",
    "# このため、xの要素に1をしたものをx'、wの要素に-tを追加したものをw'とすると、\n",
    "# x' * w' と 0 の比較によって、重み付きゲートを実現できる。\n",
    "\n",
    "# 例: x = [x0, x1, x2], w = [w0, w1, w2], t = b の場合\n",
    "#     x * w と t の比較は、x * w - t と 0 の比較と同じ意味になる。\n",
    "#     x * w - t = x0 * w0 + x1 * w1 + x2 * w2 - b\n",
    "#               = x0 * w0 + x1 * w1 + x2 * w2 + 1 * (-b)\n",
    "#     と式変形すると、x' = [x0, x1, x2, 1], w' = [w0, w1, w2, -b] とすることにより、\n",
    "#     x * w - t = x' * w' となる。\n",
    "\n",
    "# 重み付きユニットの入力と重み、しきい値から出力を求める。\n",
    "def weighted_gate(x, w):\n",
    "    weighted_value = np.sum(x * w)\n",
    "    if (weighted_value >= 0):\n",
    "        return 1\n",
    "    else:\n",
    "        return 0\n",
    "\n",
    "# 重み付きユニットを使った3入力ANDゲート\n",
    "def AND3(x0, x1, x2):\n",
    "    x = np.asarray([x0, x1, x2, 1])\n",
    "    w = np.asarray([0.2, 0.2, 0.2, -0.5])\n",
    "    return weighted_gate(x, w)\n",
    "\n",
    "signals3 = [[0, 0, 0], [1, 0, 0], [1, 1, 0], [1, 1, 1]]\n",
    "for signal in signals3:\n",
    "    fmt = \"(x0, x1, x2) = ({0}, {1}, {2})  =>  AND3(x0, x1, x2) = {3}\"\n",
    "    print(fmt.format(signal[0], signal[1], signal[2],\n",
    "                    AND3(signal[0], signal[1], signal[2])))"
   ]
  },
  {
   "cell_type": "code",
   "execution_count": 6,
   "metadata": {},
   "outputs": [
    {
     "name": "stdout",
     "output_type": "stream",
     "text": [
      "(x0, x1) = (0, 0)  =>  XOR(x0, x1) = 0\n",
      "(x0, x1) = (0, 1)  =>  XOR(x0, x1) = 1\n",
      "(x0, x1) = (1, 0)  =>  XOR(x0, x1) = 1\n",
      "(x0, x1) = (1, 1)  =>  XOR(x0, x1) = 0\n"
     ]
    }
   ],
   "source": [
    "# XORゲート\n",
    "# 2入力ゲートの入力2つのうち、一方だけが1のときにのみ1を出力し、\n",
    "# それ以外の場合は0を出力する論理ゲート。\n",
    "# 入力x0, x1と出力yの対応関係は次の通り。\n",
    "# |x0 |x1 ||y  |\n",
    "# --------------\n",
    "# |  0|  0||  0|\n",
    "# |  0|  1||  1|\n",
    "# |  1|  0||  1|\n",
    "# |  1|  1||  0|\n",
    "def XOR0(x0, x1):\n",
    "    if x0 == 1 and x1 == 0:\n",
    "        return 1\n",
    "    elif x0 == 0 and x1 == 1:\n",
    "        return 1\n",
    "    else:\n",
    "        return 0\n",
    "\n",
    "for signal in itertools.product([0, 1], repeat=2):\n",
    "    print(\"(x0, x1) = ({0}, {1})  =>  XOR(x0, x1) = {2}\"\n",
    "          .format(signal[0], signal[1], XOR0(signal[0], signal[1])))"
   ]
  },
  {
   "cell_type": "code",
   "execution_count": 7,
   "metadata": {},
   "outputs": [
    {
     "name": "stdout",
     "output_type": "stream",
     "text": [
      "(x0, x1) = (0, 0)  =>  XOR(x0, x1) = 0\n",
      "(x0, x1) = (0, 1)  =>  XOR(x0, x1) = 1\n",
      "(x0, x1) = (1, 0)  =>  XOR(x0, x1) = 1\n",
      "(x0, x1) = (1, 1)  =>  XOR(x0, x1) = 0\n"
     ]
    }
   ],
   "source": [
    "# 論理ゲートの組み合わせによるXORゲートの実現\n",
    "\n",
    "# AND, OR, NOT, NAND, NORの各論理ゲートは、重み付きユニット1つで実現できる。\n",
    "# ところが、XORゲートは、重み付きユニット1つでは実現できない。\n",
    "# これは、論理ゲート1つだけでは、線形識別ができないことによる。\n",
    "# 線形識別: 入力値の重み付け和によって、出力が0か1かを区別すること。\n",
    "\n",
    "# XORゲートを重み付きユニットで実現するには、複数のユニットを組み合わせる必要がある。\n",
    "# s0 = OR(x0, x1), s1 = NAND(x0, x1) とすると、x0, x1, s0, s1 の対応関係は次のようになる。\n",
    "# |x0 |x1 ||s0 |s1 |\n",
    "# ------------------\n",
    "# |  0|  0||  0|  1|\n",
    "# |  0|  1||  1|  1|\n",
    "# |  1|  0||  1|  1|\n",
    "# |  1|  1||  1|  0|\n",
    "# 上の表から、y = AND(s0, s1) とすれば、y = XOR(x0, x1) となる。\n",
    "\n",
    "def AND(x0, x1):\n",
    "    if x0 == 0 or x1 == 0:\n",
    "        return 0\n",
    "    else:\n",
    "        return 1\n",
    "\n",
    "def OR(x0, x1):\n",
    "    if x0 == 0 and x1 == 0:\n",
    "        return 0\n",
    "    else:\n",
    "        return 1\n",
    "\n",
    "def NAND(x0, x1):\n",
    "    if x0 == 1 and x1 == 1:\n",
    "        return 0\n",
    "    else:\n",
    "        return 1\n",
    "\n",
    "def XOR(x0, x1):\n",
    "    # 入力層→中間層\n",
    "    s0 = OR(x0, x1)\n",
    "    s1 = NAND(x0, x1)\n",
    "    # 中間層→出力層\n",
    "    return AND(s0, s1)\n",
    "\n",
    "for signal in itertools.product([0, 1], repeat=2):\n",
    "    print(\"(x0, x1) = ({0}, {1})  =>  XOR(x0, x1) = {2}\"\n",
    "          .format(signal[0], signal[1], XOR(signal[0], signal[1])))"
   ]
  },
  {
   "cell_type": "code",
   "execution_count": 10,
   "metadata": {},
   "outputs": [
    {
     "name": "stdout",
     "output_type": "stream",
     "text": [
      "(x0, x1) = (0, 0)  =>  XOR2(x0, x1) = 0\n",
      "(x0, x1) = (0, 1)  =>  XOR2(x0, x1) = 1\n",
      "(x0, x1) = (1, 0)  =>  XOR2(x0, x1) = 1\n",
      "(x0, x1) = (1, 1)  =>  XOR2(x0, x1) = 0\n"
     ]
    }
   ],
   "source": [
    "# 重み付きユニットによるXORゲートの実現\n",
    "\n",
    "def AND2(x0, x1):\n",
    "    return weighted_gate(np.asarray([x0, x1, 1]),\n",
    "                         np.asarray([0.3, 0.3, -0.5]))\n",
    "\n",
    "def OR2(x0, x1):\n",
    "    return weighted_gate(np.asarray([x0, x1, 1]),\n",
    "                         np.asarray([0.3, 0.3, -0.2]))\n",
    "\n",
    "def NAND2(x0, x1):\n",
    "    return weighted_gate(np.asarray([x0, x1, 1]),\n",
    "                         np.asarray([-0.3, -0.3, 0.5]))\n",
    "\n",
    "def XOR2(x0, x1):\n",
    "    # 入力層→中間層\n",
    "    s0 = OR2(x0, x1)\n",
    "    s1 = NAND2(x0, x1)\n",
    "    # 中間層→出力層\n",
    "    return AND2(s0, s1)\n",
    "\n",
    "for signal in itertools.product([0, 1], repeat=2):\n",
    "    print(\"(x0, x1) = ({0}, {1})  =>  XOR2(x0, x1) = {2}\"\n",
    "          .format(signal[0], signal[1], XOR2(signal[0], signal[1])))"
   ]
  },
  {
   "cell_type": "code",
   "execution_count": 14,
   "metadata": {},
   "outputs": [
    {
     "name": "stdout",
     "output_type": "stream",
     "text": [
      "x0, x1 = (0, 0)  => (s0, s1) = (0, 1), (y0, y1) = (0, 0)\n",
      "x0, x1 = (0, 1)  => (s0, s1) = (1, 1), (y0, y1) = (1, 0)\n",
      "x0, x1 = (1, 0)  => (s0, s1) = (1, 1), (y0, y1) = (1, 0)\n",
      "x0, x1 = (1, 1)  => (s0, s1) = (1, 0), (y0, y1) = (0, 1)\n"
     ]
    }
   ],
   "source": [
    "# パーセプトロン\n",
    "# 複数の信号を入力として受け取り、入力信号の値に基づいて信号を出力する仕組み。\n",
    "# 重み付きユニットは、最も単純なパーセプトロンとみなせる。\n",
    "\n",
    "# 単純パーセプトロン\n",
    "# 入力層、出力層の2層で構成されるパーセプトロン。\n",
    "# 重み付きユニットを用いて、入力信号から出力信号を得る。\n",
    "# AND, OR, NOT, NAND, NORの論理ゲートを表現できる。\n",
    "\n",
    "# 多層パーセプトロン\n",
    "# 入力層と出力層の間に、中間層を設けたパーセプトロン。\n",
    "# 入力信号から、重み付きユニットによって中間信号を得たら、\n",
    "# さらに別の重み付きユニットによって、中間信号から出力信号を得る。\n",
    "# XORは単純パーセプトロンで表現できないが、中間層を1つ設けると表現できる。\n",
    "\n",
    "# 例:\n",
    "# 2入力(x0, x1), 2出力(y0, y1), 中間層のユニットが2(s0, s1)のとき\n",
    "# 入力層→中間層\n",
    "# s0: x0 * w000 + x1 * w001 - b00 と 0 の大小を比較して求める\n",
    "# s1: x0 * w010 + x1 * w011 - b01 と 0 の大小を比較して求める\n",
    "# 中間層→出力層\n",
    "# y0: s0 * w100 + s1 * w101 - b10 と 0 の大小を比較して求める\n",
    "# y1: s0 * w110 + s1 * w111 - b11 と 0 の大小を比較して求める\n",
    "\n",
    "# 上記で定義した weighted_gate 関数を使うと、それぞれ\n",
    "# s0: x = np.asarray([x0, x1, 1]), w = np.asarray([w000, w001, -b00])\n",
    "# s1: x = np.asarray([x0, x1, 1]), w = np.asarray([w010, w011, -b01])\n",
    "# y0: x = np.asarray([s0, s1, 1]), w = np.asarray([w100, w101, -b10])\n",
    "# y1: x = np.asarray([s0, s1, 1]), w = np.asarray([w110, w111, -b11])\n",
    "# を引数として呼び出せばよい。\n",
    "w000, w001, b00 = 0.3, 0.3, 0.2\n",
    "w010, w011, b01 = -0.3, -0.3, -0.5\n",
    "w100, w101, b10 = 0.3, 0.3, 0.5\n",
    "w110, w111, b11 = -0.1, -0.5, -0.3 \n",
    "\n",
    "w00 = np.asarray([w000, w001, -b00])\n",
    "w01 = np.asarray([w010, w011, -b01])\n",
    "w10 = np.asarray([w100, w101, -b10])\n",
    "w11 = np.asarray([w110, w111, -b11])\n",
    "fmt = \"x0, x1 = ({0}, {1})  => (s0, s1) = ({2}, {3}), (y0, y1) = ({4}, {5})\"\n",
    "\n",
    "for signal in itertools.product([0, 1], repeat=2):\n",
    "    x = np.asarray([signal[0], signal[1], 1])\n",
    "    s0 = weighted_gate(x, w00)\n",
    "    s1 = weighted_gate(x, w01)\n",
    "    s = np.asarray([s0, s1, 1])\n",
    "    y0 = weighted_gate(s, w10)\n",
    "    y1 = weighted_gate(s, w11)\n",
    "    print(fmt.format(signal[0], signal[1], s0, s1, y0, y1))"
   ]
  },
  {
   "cell_type": "code",
   "execution_count": null,
   "metadata": {},
   "outputs": [],
   "source": []
  }
 ],
 "metadata": {
  "kernelspec": {
   "display_name": "Python 3",
   "language": "python",
   "name": "python3"
  },
  "language_info": {
   "codemirror_mode": {
    "name": "ipython",
    "version": 3
   },
   "file_extension": ".py",
   "mimetype": "text/x-python",
   "name": "python",
   "nbconvert_exporter": "python",
   "pygments_lexer": "ipython3",
   "version": "3.8.8"
  }
 },
 "nbformat": 4,
 "nbformat_minor": 4
}
