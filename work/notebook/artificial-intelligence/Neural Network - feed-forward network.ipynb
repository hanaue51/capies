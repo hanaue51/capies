{
 "cells": [
  {
   "cell_type": "code",
   "execution_count": 1,
   "metadata": {},
   "outputs": [],
   "source": [
    "import numpy as np\n",
    "import math\n",
    "import itertools"
   ]
  },
  {
   "cell_type": "code",
   "execution_count": 2,
   "metadata": {},
   "outputs": [],
   "source": [
    "# ニューラルネットワークのモデル\n",
    "# ニューラルネットワークは、ニューロン(重み付きユニット)の層としてモデル化される。\n",
    "\n",
    "# ニューロン層のクラス定義\n",
    "class NeuralNetworkLayer:\n",
    "    # コンストラクタ\n",
    "    def __init__(self, n_input, n_output, activator):\n",
    "        # 重み付きユニットを初期化する。\n",
    "        # 0以上1未満のランダムな値を、重みの初期値にする。\n",
    "        self.W = np.random.rand(n_output, n_input)\n",
    "        # 活性化関数を設定する。\n",
    "        self.activator = activator\n",
    "    \n",
    "    # 入力値から出力値の計算\n",
    "    def propagate(self, x):\n",
    "        # 重み付き入力値の総和を求める。\n",
    "        s = self.W @ x\n",
    "        # 上記の和に活性化関数を適用した結果を出力にする。\n",
    "        return self.activator(s)\n",
    "\n",
    "# ステップ関数\n",
    "step = np.frompyfunc(lambda x: 1 if x > 0 else 0, 1, 1)\n",
    "# シグモイド関数\n",
    "sigmoid = np.frompyfunc(lambda x: 1 / (1 + math.exp(-x)), 1, 1)\n",
    "\n",
    "# ニューラルネットワークのクラス定義\n",
    "class NeuralNetwork:\n",
    "    # コンストラクタ\n",
    "    def __init__(self, n_input, n_output, layer_units):\n",
    "        # ニューロン層(入力→中間→出力)\n",
    "        self.layers = []\n",
    "        self.n_input = n_input\n",
    "        self.n_output = n_output\n",
    "        \n",
    "        # ニューロン層を初期化する。\n",
    "        prev_units = n_input + 1\n",
    "        for units in layer_units:\n",
    "            layer = NeuralNetworkLayer(prev_units, units, sigmoid)\n",
    "            self.layers.append(layer)\n",
    "            prev_units = units\n",
    "        \n",
    "        # 出力層を初期化する。\n",
    "        layer = NeuralNetworkLayer(prev_units, n_output, step)\n",
    "        self.layers.append(layer)\n",
    "    \n",
    "    # 入力値から出力値の計算\n",
    "    def propagate(self, x):\n",
    "        print(\"{0}\".format(x))\n",
    "        v_in = np.append(x, 1)\n",
    "        # 中間層に入力値を伝播させて、出力値を得る。\n",
    "        for layer in self.layers:\n",
    "            # \n",
    "            v_out = layer.propagate(v_in).astype(np.float64)\n",
    "            print(\"---> {0}\".format(v_out))\n",
    "            v_in = v_out\n",
    "        return v_out\n"
   ]
  },
  {
   "cell_type": "code",
   "execution_count": 3,
   "metadata": {},
   "outputs": [
    {
     "name": "stdout",
     "output_type": "stream",
     "text": [
      "[1 0 1 0 0]\n",
      "---> [0.86318716 0.82977093 0.93744995]\n",
      "---> [1. 1.]\n"
     ]
    }
   ],
   "source": [
    "# 5入力、2出力、中間層が1つ(ユニット数3)のニューラルネットワークのシミュレート\n",
    "network0 = NeuralNetwork(5, 2, [3])\n",
    "x0 = np.asarray([1, 0, 1, 0, 0])\n",
    "y0 = network0.propagate(x0)"
   ]
  },
  {
   "cell_type": "code",
   "execution_count": 4,
   "metadata": {},
   "outputs": [
    {
     "name": "stdout",
     "output_type": "stream",
     "text": [
      "[0 1 1 1 0 0 1 0 0 0 0 1 1 1 0 0 0 0 1 0 0 1 1 1 0]\n",
      "---> [0.98658997 0.99611594 0.98898716 0.99797128 0.99520843]\n",
      "---> [0.87309886 0.88660665 0.97947681 0.94602848 0.94923194]\n",
      "---> [1. 1. 1. 1. 1. 1. 1. 1. 1. 1.]\n"
     ]
    }
   ],
   "source": [
    "# 25入力、10出力、中間層が2つ(ユニット数各5)のニューラルネットワークのシミュレート\n",
    "network1 = NeuralNetwork(25, 10, [5, 5])\n",
    "x1 = np.asarray([0, 1, 1, 1, 0, 0, 1, 0, 0, 0, 0, 1, 1, 1, 0, 0, 0, 0, 1, 0, 0, 1, 1, 1, 0])\n",
    "y1 = network1.propagate(x1)"
   ]
  },
  {
   "cell_type": "code",
   "execution_count": null,
   "metadata": {},
   "outputs": [],
   "source": []
  }
 ],
 "metadata": {
  "kernelspec": {
   "display_name": "Python 3",
   "language": "python",
   "name": "python3"
  },
  "language_info": {
   "codemirror_mode": {
    "name": "ipython",
    "version": 3
   },
   "file_extension": ".py",
   "mimetype": "text/x-python",
   "name": "python",
   "nbconvert_exporter": "python",
   "pygments_lexer": "ipython3",
   "version": "3.7.1"
  }
 },
 "nbformat": 4,
 "nbformat_minor": 2
}
