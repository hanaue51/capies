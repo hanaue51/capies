{
 "cells": [
  {
   "cell_type": "code",
   "execution_count": null,
   "metadata": {},
   "outputs": [],
   "source": [
    "import itertools"
   ]
  },
  {
   "cell_type": "code",
   "execution_count": null,
   "metadata": {},
   "outputs": [],
   "source": [
    "# 論理ゲート\n",
    "# 入力信号、出力信号ともに0か1の値だけをとる回路のモデル。\n",
    "\n",
    "# ANDゲート\n",
    "# 入力信号がすべて1の場合にのみ1を出力し、\n",
    "# それ以外の場合(入力信号に0のものがある場合)は0を出力する論理ゲート。\n",
    "# 入力信号が2つあり、それらをx0, x1とするとき、出力信号yとの対応関係は以下のようになる。\n",
    "# |x0 |x1 ||y  |\n",
    "# --------------\n",
    "# |  0|  0||  0|\n",
    "# |  0|  1||  0|\n",
    "# |  1|  0||  0|\n",
    "# |  1|  1||  1|\n",
    "def AND(x0, x1):\n",
    "    if x0 == 0 or x1 == 0:\n",
    "        return 0\n",
    "    else:\n",
    "        return 1\n",
    "\n",
    "# ORゲート\n",
    "# 入力信号の少なくとも1つが1の場合に1を出力し、\n",
    "# それ以外の場合(入力信号がすべて0の場合)は1を出力する論理ゲート。\n",
    "# 入力信号が2つあり、それらをx0, x1とするとき、出力信号yとの対応関係は以下のようになる。\n",
    "# |x0 |x1 ||y  |\n",
    "# --------------\n",
    "# |  0|  0||  0|\n",
    "# |  0|  1||  1|\n",
    "# |  1|  0||  1|\n",
    "# |  1|  1||  1|\n",
    "def OR(x0, x1):\n",
    "    if x0 == 0 and x1 == 0:\n",
    "        return 0\n",
    "    else:\n",
    "        return 1\n",
    "\n",
    "signals = [[0, 0], [0, 1], [1, 0], [1, 1]]\n",
    "for signal in signals:\n",
    "    print(\"(x0, x1) = ({0}, {1})  =>  AND(x0, x1) = {2}, OR(x0, x1) = {3}\"\n",
    "          .format(signal[0], signal[1],\n",
    "                  AND(signal[0], signal[1]),\n",
    "                  OR(signal[0], signal[1])))"
   ]
  },
  {
   "cell_type": "code",
   "execution_count": null,
   "metadata": {},
   "outputs": [],
   "source": [
    "# NOTゲート\n",
    "# 入力信号を反転させた信号を出力する論理ゲート。\n",
    "# 入力が0ならば1を出力し、入力が1ならば0を出力する。\n",
    "def NOT(x):\n",
    "    if x == 0:\n",
    "        return 1\n",
    "    else:\n",
    "        return 0\n",
    "\n",
    "# NANDゲート\n",
    "# 入力信号の少なくとも0つがの場合に1を出力し、\n",
    "# それ以外の場合(入力信号がすべて1の場合)は0を出力する論理ゲート。\n",
    "# 入力信号が2つあり、それらをx0, x1とするとき、出力信号yとの対応関係は以下のようになる。\n",
    "# |x0 |x1 ||y  |\n",
    "# --------------\n",
    "# |  0|  0||  1|\n",
    "# |  0|  1||  1|\n",
    "# |  1|  0||  1|\n",
    "# |  1|  1||  0|\n",
    "def NAND(x0, x1):\n",
    "    if x0 == 0 or x1 == 0:\n",
    "        return 1\n",
    "    else:\n",
    "        return 0\n",
    "\n",
    "# NORゲート\n",
    "# 入力信号がすべて0の場合にのみ1を出力し、\n",
    "# それ以外の場合(入力信号に1のものがある場合)は0を出力する論理ゲート。\n",
    "# 入力信号が2つあり、それらをx0, x1とするとき、出力信号yとの対応関係は以下のようになる。\n",
    "# |x0 |x1 ||y  |\n",
    "# --------------\n",
    "# |  0|  0||  1|\n",
    "# |  0|  1||  0|\n",
    "# |  1|  0||  0|\n",
    "# |  1|  1||  0|\n",
    "def NOR(x0, x1):\n",
    "    if x0 == 0 and x1 == 0:\n",
    "        return 1\n",
    "    else:\n",
    "        return 0\n",
    "\n",
    "for signal in signals:\n",
    "    print(\"(x0, x1) = ({0}, {1})  =>  NAND(x0, x1) = {2}, NOR(x0, x1) = {3}\"\n",
    "          .format(signal[0], signal[1], NAND(signal[0], signal[1]), NOR(signal[0], signal[1])))"
   ]
  },
  {
   "cell_type": "code",
   "execution_count": null,
   "metadata": {},
   "outputs": [],
   "source": [
    "# 論理ゲートの結合\n",
    "# 複数の論理ゲートの入出力をつなぐことで、より複雑な論理ゲートをつくることができる。\n",
    "\n",
    "# NANDゲートは、ANDゲートの出力とNOTゲートの入力を接続してつくることもできる。\n",
    "# y = NOT(AND(x0, x1)) とすると、ANDゲートの出力をNOTゲートに入力した結果を求められる。\n",
    "for signal in signals:\n",
    "    print(\"(x0, x1) = ({0}, {1})  =>  NAND(x0, x1) = {2}, NOT(AND(x0, x1)) = {3}\"\n",
    "          .format(signal[0], signal[1], NAND(signal[0], signal[1]), NOT(AND(signal[0], signal[1]))))"
   ]
  },
  {
   "cell_type": "code",
   "execution_count": null,
   "metadata": {},
   "outputs": [],
   "source": [
    "# 2入力のANDゲートを2つ使って、3入力のANDゲートをつくる。\n",
    "def AND3(x0, x1, x2):\n",
    "    # 1つめのゲート: x0とx1を入力にする。\n",
    "    # 2つめのゲート: 1つめのゲートの出力とx2を入力にする。\n",
    "    return AND(AND(x0, x1), x2)\n",
    "\n",
    "for signal in itertools.product([0, 1], repeat=3):\n",
    "    print(\"(x0, x1, x2) = ({0}, {1}, {2})  =>  AND3(x0, x1 x2) = {3}\"\n",
    "          .format(signal[0], signal[1], signal[2],\n",
    "                  AND3(signal[0], signal[1], signal[2])))"
   ]
  },
  {
   "cell_type": "code",
   "execution_count": null,
   "metadata": {},
   "outputs": [],
   "source": []
  }
 ],
 "metadata": {
  "kernelspec": {
   "display_name": "Python 3",
   "language": "python",
   "name": "python3"
  },
  "language_info": {
   "codemirror_mode": {
    "name": "ipython",
    "version": 3
   },
   "file_extension": ".py",
   "mimetype": "text/x-python",
   "name": "python",
   "nbconvert_exporter": "python",
   "pygments_lexer": "ipython3",
   "version": "3.8.8"
  }
 },
 "nbformat": 4,
 "nbformat_minor": 4
}
