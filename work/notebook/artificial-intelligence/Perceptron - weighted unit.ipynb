{
 "cells": [
  {
   "cell_type": "code",
   "execution_count": null,
   "metadata": {},
   "outputs": [],
   "source": [
    "import itertools\n",
    "import numpy as np"
   ]
  },
  {
   "cell_type": "code",
   "execution_count": null,
   "metadata": {},
   "outputs": [],
   "source": [
    "# 重み付きユニット\n",
    "# 入力値に重み付けをして総和を求め、\n",
    "# 総和が一定の値以上ならば1を出力する論理ゲート。\n",
    "def weighted_gate(x0, x1):\n",
    "    # 1を出力するかどうかの基準値(しきい値)\n",
    "    theta = 0.5\n",
    "    # 入力値に付ける重み\n",
    "    w0, w1 = 0.7, 0.3\n",
    "    \n",
    "    # 入力値に重み付けをした値の総和を求める。\n",
    "    weighted_value = x0 * w0 + x1 * w1\n",
    "    print(\"    weighted value = {0}, threshold = {1}\".format(weighted_value, theta))\n",
    "    # 総和がしきい値以上ならば1を、そうでなければ0を出力する。\n",
    "    if weighted_value >= theta:\n",
    "        return 1\n",
    "    else:\n",
    "        return 0\n",
    "\n",
    "for signal in itertools.product([0, 1], repeat=2):\n",
    "    # 入力値を表示する。\n",
    "    print(\"(x0, x1) = ({0}, {1})\".format(signal[0], signal[1]))\n",
    "    # 重み付きユニットの出力値を求める。\n",
    "    output = weighted_gate(signal[0], signal[1])\n",
    "    # 出力値を表示する。\n",
    "    print(\"    y = {0}\".format(output))"
   ]
  },
  {
   "cell_type": "code",
   "execution_count": null,
   "metadata": {},
   "outputs": [],
   "source": [
    "# 重みとしきい値を引数で指定できるようにする。\n",
    "def weighted_gate(x0, x1, w0, w1, theta):\n",
    "    weighted_value = x0 * w0 + x1 * w1\n",
    "    if weighted_value >= theta:\n",
    "        return 1\n",
    "    else:\n",
    "        return 0\n",
    "\n",
    "# ANDゲートを重み付きユニットで実装する。\n",
    "def AND(x0, x1):\n",
    "    # x0, x1が両方とも1のとき1が返されるように、\n",
    "    # 重みとしきい値を設定する。\n",
    "    return weighted_gate(x0, x1, 0.5, 0.5, 0.7)\n",
    "\n",
    "# ORゲートを重み付きユニットで実装する。\n",
    "def OR(x0, x1):\n",
    "    # x0, x1の少なくとも一方が1のとき1が返されるように、\n",
    "    # 重みとしきい値を設定する。\n",
    "    return weighted_gate(x0, x1, 0.5, 0.5, 0.3)\n",
    "\n",
    "# ANDゲートとORゲートのシミュレート結果を表示する。\n",
    "for signal in itertools.product([0, 1], repeat=2):\n",
    "    print(\"(x0, x1) = ({0}, {1})  =>  AND(x0, x1) = {2}, OR(x0, x1) = {3}\"\n",
    "          .format(signal[0], signal[1],\n",
    "                 AND(signal[0], signal[1]),\n",
    "                 OR(signal[0], signal[1])))"
   ]
  },
  {
   "cell_type": "code",
   "execution_count": null,
   "metadata": {},
   "outputs": [],
   "source": [
    "# NOTゲートを重み付きユニットで実装する。\n",
    "def NOT(x):\n",
    "    # 重み付きゲートの2つの入力に同じ値を設定する。\n",
    "    # 重みを負の値とすることで、入力値を反転させる(0->1, 1->0)ことができる。\n",
    "    return weighted_gate(x, x, -0.5, -0.5, -0.2)\n",
    "\n",
    "# NOTゲートのシミュレート結果を表示する。\n",
    "for signal in [0, 1]:\n",
    "    print(\"x = {0}  =>  NOT(x) = {1}\".format(signal, NOT(signal)))"
   ]
  },
  {
   "cell_type": "code",
   "execution_count": null,
   "metadata": {},
   "outputs": [],
   "source": [
    "# 重み付きユニットの一般化\n",
    "# NumPyの配列を使うと、入力が3つ以上の重み付きユニットを同じ関数で定義できる。\n",
    "def weighted_gate(x, w, theta):\n",
    "    # x, wの各要素どうしを掛けた値の総和を求める。\n",
    "    # 例: x = [x0, x1, x2], w = [w0, w1, w2]\n",
    "    #     x * w = [x0 * w0, x1 * w1, x2 * w2]\n",
    "    #     np.sum(x * w) = (x * wの各要素の和)\n",
    "    #                   = x0 * w0 + x1 * w1 + x2 * w2\n",
    "    weighted_value = np.sum(x * w)\n",
    "    if (weighted_value >= theta):\n",
    "        return 1\n",
    "    else:\n",
    "        return 0\n",
    "\n",
    "# 入力信号が3つの場合\n",
    "# 3入力ANDゲート\n",
    "def AND3(x0, x1, x2):\n",
    "    x = np.asarray([x0, x1, x2])\n",
    "    w = np.asarray([0.2, 0.2, 0.2])\n",
    "    return weighted_gate(x, w, 0.5)\n",
    "\n",
    "# 3入力ORゲート\n",
    "def OR3(x0, x1, x2):\n",
    "    x = np.asarray([x0, x1, x2])\n",
    "    w = np.asarray([0.2, 0.2, 0.2])\n",
    "    return weighted_gate(x, w, 0.1)\n",
    "\n",
    "# いくつかの入力に対して、3入力ゲートのシミュレート結果を表示する。\n",
    "signals3 = [[0, 0, 0], [0, 1, 0], [1, 1, 0], [1, 1, 1]]\n",
    "for signal in signals3:\n",
    "    fmt = \"(x0, x1, x2) = ({0}, {1}, {2})  =>  AND3(x0, x1, x2) = {3}, OR3(x0, x1, x2) = {4}\"\n",
    "    print(fmt.format(signal[0], signal[1], signal[2],\n",
    "                    AND3(signal[0], signal[1], signal[2]),\n",
    "                    OR3(signal[0], signal[1], signal[2])))"
   ]
  },
  {
   "cell_type": "code",
   "execution_count": null,
   "metadata": {},
   "outputs": [],
   "source": [
    "# 入力信号が4つの場合\n",
    "# 4入力ANDゲート\n",
    "def AND4(x0, x1, x2, x3):\n",
    "    x = np.asarray([x0, x1, x2, x3])\n",
    "    w = np.asarray([0.2, 0.2, 0.2, 0.2])\n",
    "    return weighted_gate(x, w, 0.7)\n",
    "\n",
    "# 4入力ORゲート\n",
    "def OR4(x0, x1, x2, x3):\n",
    "    x = np.asarray([x0, x1, x2, x3])\n",
    "    w = np.asarray([0.2, 0.2, 0.2, 0.2])\n",
    "    return weighted_gate(x, w, 0.1)\n",
    "\n",
    "# いくつかの入力に対して、4入力ゲートのシミュレート結果を表示する。\n",
    "signals4 = [[0, 0, 0, 0], [0, 0, 1, 0], [0, 1, 1, 0], [1, 1, 1, 1]]\n",
    "for signal in signals4:\n",
    "    fmt = \"(x0, x1, x2, x3) = ({0}, {1}, {2}, {3})  =>  AND4(x0, x1, x2, x3) = {4}, OR4(x0, x1, x2, x3) = {5}\"\n",
    "    print(fmt.format(signal[0], signal[1], signal[2], signal[3],\n",
    "                    AND4(signal[0], signal[1], signal[2], signal[3]),\n",
    "                    OR4(signal[0], signal[1], signal[2], signal[3])))"
   ]
  },
  {
   "cell_type": "code",
   "execution_count": null,
   "metadata": {},
   "outputs": [],
   "source": []
  }
 ],
 "metadata": {
  "kernelspec": {
   "display_name": "Python 3",
   "language": "python",
   "name": "python3"
  },
  "language_info": {
   "codemirror_mode": {
    "name": "ipython",
    "version": 3
   },
   "file_extension": ".py",
   "mimetype": "text/x-python",
   "name": "python",
   "nbconvert_exporter": "python",
   "pygments_lexer": "ipython3",
   "version": "3.8.8"
  }
 },
 "nbformat": 4,
 "nbformat_minor": 4
}
