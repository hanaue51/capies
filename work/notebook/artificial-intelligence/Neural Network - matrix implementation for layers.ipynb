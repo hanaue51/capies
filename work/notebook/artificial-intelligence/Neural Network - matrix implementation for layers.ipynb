{
 "cells": [
  {
   "cell_type": "code",
   "execution_count": 11,
   "metadata": {},
   "outputs": [],
   "source": [
    "import numpy as np\n",
    "import itertools\n",
    "import math"
   ]
  },
  {
   "cell_type": "code",
   "execution_count": 5,
   "metadata": {},
   "outputs": [
    {
     "name": "stdout",
     "output_type": "stream",
     "text": [
      "(2, 3)\n",
      "(3,)\n",
      "[-0.2  0.2]\n"
     ]
    }
   ],
   "source": [
    "# 行列による中間層の実装\n",
    "\n",
    "# 2入力(x0, x1)、2出力(y0, y1)の層には、重み付きユニットが2つある。\n",
    "# 重み付きユニットの重みは、ユニットごとに定義される。\n",
    "# 活性化関数もユニットごとに定義できるが、一般的には、同じ層のユニットに対して、\n",
    "# 同じ活性化関数を定義する。\n",
    "\n",
    "# y0を求める重み付きユニットの重みを w00, w01, b0 とすると、重み付き入力値の和は\n",
    "# x0 * w00 + x1 * w01 + b0\n",
    "\n",
    "# y1を求める重み付きユニットの重みを w10, w11, b1 とすると、重み付き入力値の和は\n",
    "# x0 * w01 + x1 * w11 + b1\n",
    "\n",
    "# これら2つの式は、\n",
    "# x0 * w00 + x1 * w01 + 1 * b0 = [x0 x1 1] * [w00 w01 b0]\n",
    "# x0 * w10 + x1 * w11 + 1 * b1 = [x0 x1 1] * [w10 w11 b1]\n",
    "# と変形できるので、\n",
    "# W = [[w00 w01 -b0] [w10 w11 -b1]], x = [[x0 x1 1] という行列を定めると、\n",
    "# W と x の行列積としてまとめることができる。\n",
    "\n",
    "w00, w01, b0 = 0.5, 0.5, -0.7\n",
    "w10, w11, b1 = 0.4, 0.4, -0.2\n",
    "W2_2 = np.asarray([[w00, w01, b0], [w10, w11, b1]])\n",
    "\n",
    "x0, x1 = 0, 1\n",
    "x2 = np.asarray([x0, x1, 1])\n",
    "\n",
    "print(W2_2.shape)\n",
    "print(x2.shape)\n",
    "\n",
    "print(W2_2 @ x2)"
   ]
  },
  {
   "cell_type": "code",
   "execution_count": 10,
   "metadata": {},
   "outputs": [
    {
     "name": "stdout",
     "output_type": "stream",
     "text": [
      "[[0 0 1 1 1]\n",
      " [1 0 1 1 1]\n",
      " [1 1 0 1 0]]\n",
      "[2 3 2]\n",
      "[[1 0 1 0 0 1 1 1 1]]\n",
      "[3]\n"
     ]
    }
   ],
   "source": [
    "# 上の式は入力と出力がどちらも2の場合を示していたが、\n",
    "# 入力と出力の数が2以外の場合でも、行列積の式は同じとなる。\n",
    "\n",
    "# 重みの行列\n",
    "# 3行5列 => 出力は3つ、入力は4つ\n",
    "W4_3 = np.random.randint(2, size=(3, 5))\n",
    "print(W4_3)\n",
    "\n",
    "# 入力の行列\n",
    "x4 = np.asarray([1, 0, 0, 1, 1])\n",
    "\n",
    "# 各ユニットの重み付け入力値の和\n",
    "print(W4_3 @ x4)\n",
    "\n",
    "# 1行9列 => 出力は1つ、入力は8つ\n",
    "W8_1 = np.random.randint(2, size=(1, 9))\n",
    "print(W8_1)\n",
    "\n",
    "# 入力の行列\n",
    "x8 = np.asarray([1, 0, 0, 1, 1, 0, 1, 0, 1])\n",
    "\n",
    "# 各ユニットの重み付け入力値の和\n",
    "print(W8_1 @ x8)"
   ]
  },
  {
   "cell_type": "code",
   "execution_count": 18,
   "metadata": {},
   "outputs": [],
   "source": [
    "# 中間層の実装の一般化\n",
    "\n",
    "# 中間層のクラス\n",
    "class NeuralNetworkLayer:\n",
    "    # コンストラクタ\n",
    "    # n_input: 入力信号の数\n",
    "    # n_output: 出力信号の数\n",
    "    # activator: 活性化関数\n",
    "    def __init__(self, n_input, n_output, activator):\n",
    "        self.W = np.random.randint(2, size=(n_output, n_input + 1))\n",
    "        self.activator = activator\n",
    "    \n",
    "    # 入力信号から出力信号を求める。\n",
    "    # x: 入力信号\n",
    "    def propagate(self, x):\n",
    "        # 重み付き入力値の和を求める。\n",
    "        s = self.W @ x\n",
    "        # 活性化関数の値を求める。\n",
    "        return self.activator(s)\n",
    "\n",
    "# 活性化関数の定義\n",
    "step = np.frompyfunc(lambda x: 1 if x > 0 else 0, 1, 1)\n",
    "sigmoid = np.frompyfunc(lambda x: 1 / (1 + math.exp(-x)), 1, 1)"
   ]
  },
  {
   "cell_type": "code",
   "execution_count": 19,
   "metadata": {},
   "outputs": [
    {
     "name": "stdout",
     "output_type": "stream",
     "text": [
      "[[0 1 0 1 0]\n",
      " [1 1 1 1 0]\n",
      " [0 0 0 1 1]]\n",
      "[1 1 1]\n",
      "[[0 1 0 0 1 1 0 1 1]]\n",
      "[0.8807970779778823]\n"
     ]
    }
   ],
   "source": [
    "# 中間層の使用例1: 4入力3出力、ステップ関数による活性化\n",
    "layer0 = NeuralNetworkLayer(4, 3, step)\n",
    "print(layer0.W)\n",
    "print(layer0.propagate(np.asarray([1, 0, 0, 1, 1])))\n",
    "\n",
    "# 中間層の使用例2: 8入力1出力、シグモイド関数による活性化\n",
    "layer1 = NeuralNetworkLayer(8, 1, sigmoid)\n",
    "print(layer1.W)\n",
    "print(layer1.propagate(np.asarray([1, 0, 1, 1, 1, 0, 0, 0, 1])))"
   ]
  },
  {
   "cell_type": "code",
   "execution_count": null,
   "metadata": {},
   "outputs": [],
   "source": []
  }
 ],
 "metadata": {
  "kernelspec": {
   "display_name": "Python 3",
   "language": "python",
   "name": "python3"
  },
  "language_info": {
   "codemirror_mode": {
    "name": "ipython",
    "version": 3
   },
   "file_extension": ".py",
   "mimetype": "text/x-python",
   "name": "python",
   "nbconvert_exporter": "python",
   "pygments_lexer": "ipython3",
   "version": "3.7.1"
  }
 },
 "nbformat": 4,
 "nbformat_minor": 2
}
