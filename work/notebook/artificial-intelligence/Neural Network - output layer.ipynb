{
 "cells": [
  {
   "cell_type": "code",
   "execution_count": 6,
   "metadata": {},
   "outputs": [],
   "source": [
    "import numpy as np\n",
    "import pandas as pd\n",
    "import math\n",
    "import itertools\n",
    "import matplotlib.pyplot as plt"
   ]
  },
  {
   "cell_type": "code",
   "execution_count": 5,
   "metadata": {},
   "outputs": [
    {
     "name": "stdout",
     "output_type": "stream",
     "text": [
      "input = [0.5 4.5 1.8]\n",
      "exp(array0) = [ 1.64872127 90.0171313   6.04964746]\n",
      "exp_sum = 97.71550003563488\n",
      "output = [0.01687267 0.9212165  0.06191083]\n"
     ]
    }
   ],
   "source": [
    "# ニューラルネットワークの出力層\n",
    "\n",
    "# 入力データから中間層を経て、学習の結果を出力する。\n",
    "# 学習の目的は、入力データに対する「回帰」と「分類」のどちらかに大きく分けられる。\n",
    "# 回帰(regression): 入力データから求められる連続値(気温、株価など)を予測する。\n",
    "# 分類(classification): 入力データが所属するカテゴリを予測する。\n",
    "\n",
    "# ソフトマックス関数\n",
    "# ニューラルネットワークによる分類を実現するとき、出力層では「ソフトマックス関数」を使う。\n",
    "\n",
    "# ソフトマックス関数の求め方\n",
    "# 0. 入力\n",
    "array0 = np.asarray([0.5, 4.5, 1.8])\n",
    "print(\"input = {0}\".format(array0))\n",
    "# 1. 各入力値(a)ごとに、exp(a)の値を求める。\n",
    "exp0 = np.exp(array0)\n",
    "print(\"exp(array0) = {0}\".format(exp0))\n",
    "# 2. 1.で成分ごとに求めた値の総和を求める。\n",
    "exp0_sum = np.sum(exp0)\n",
    "print(\"exp_sum = {0}\".format(exp0_sum))\n",
    "# 3. 各入力値を、2.で求めた総和で割る。\n",
    "#    その結果得られた各成分が、ソフトマックス関数の出力値となる。\n",
    "softmax0 = exp0 / exp0_sum\n",
    "print(\"output = {0}\".format(softmax0))\n"
   ]
  },
  {
   "cell_type": "code",
   "execution_count": 6,
   "metadata": {},
   "outputs": [
    {
     "name": "stdout",
     "output_type": "stream",
     "text": [
      "input = [1020 1005  992]\n",
      "output = [nan nan nan]\n"
     ]
    },
    {
     "name": "stderr",
     "output_type": "stream",
     "text": [
      "/home/ec2-user/anaconda3/lib/python3.7/site-packages/ipykernel_launcher.py:9: RuntimeWarning: invalid value encountered in true_divide\n",
      "  if __name__ == '__main__':\n"
     ]
    }
   ],
   "source": [
    "# ソフトマックス関数の実装\n",
    "# ソフトマックス関数には指数関数(exp(x))が含まれる。\n",
    "# xの値が大きいとexp(x)の値は爆発的に大きくなるため、割り算によって誤差が生じることがある。\n",
    "# このため、上記の手順をそのまま関数として実装すると、正しく値を求められないことがある。\n",
    "\n",
    "def bad_softmax(a):\n",
    "    exp_a = np.exp(a)\n",
    "    exp_sum = np.sum(exp_a)\n",
    "    return exp_a / exp_sum\n",
    "\n",
    "array1 = np.asarray([1020, 1005, 992])\n",
    "softmax1 = bad_softmax(array1)\n",
    "\n",
    "print(\"input = {0}\".format(array1))\n",
    "print(\"output = {0}\".format(softmax1))\n"
   ]
  },
  {
   "cell_type": "code",
   "execution_count": 9,
   "metadata": {},
   "outputs": [
    {
     "name": "stdout",
     "output_type": "stream",
     "text": [
      "input = [1020 1005  992]\n",
      "output = [9.99999694e-01 3.05902227e-07 6.91439799e-13]\n"
     ]
    }
   ],
   "source": [
    "# 誤差の影響を減らすには、ソフトマックス関数の性質: softmax(a) = softmax(a + c) を利用する。\n",
    "# 入力値の中で値が最大のものを M とするとき、softmax(a) = softmax(a - M) とすれば、\n",
    "# 指数関数の値が小さくなり、誤差による影響を減らすことができる。\n",
    "\n",
    "def softmax(a):\n",
    "    max_a = np.max(a)\n",
    "    exp_a = np.exp(a - max_a)\n",
    "    exp_sum = np.sum(exp_a)\n",
    "    return exp_a / exp_sum\n",
    "\n",
    "array2 = np.asarray([1020, 1005, 992])\n",
    "softmax2 = softmax(array2)\n",
    "\n",
    "print(\"input = {0}\".format(array2))\n",
    "print(\"output = {0}\".format(softmax2))\n"
   ]
  },
  {
   "cell_type": "code",
   "execution_count": 15,
   "metadata": {},
   "outputs": [
    {
     "data": {
      "image/png": "[encoded data removed]",
      "text/plain": [
       "<Figure size 432x288 with 1 Axes>"
      ]
     },
     "metadata": {
      "needs_background": "light"
     },
     "output_type": "display_data"
    }
   ],
   "source": [
    "# ソフトマックス関数のグラフの概形\n",
    "\n",
    "# a0, a1, a2の3つの値に対して、a1, a2の値を固定したときのソフトマックス関数:\n",
    "# softmax(a0), softmax(a1), softmax(a2)のグラフを描く。\n",
    "\n",
    "# a0の値の範囲を、-10から10まで0.5間隔で変化させる。\n",
    "a0 = np.arange(-10, 10, 0.5)\n",
    "x0 = a0.tolist()\n",
    "\n",
    "# a1の値は0.5, a2の値は2とする。\n",
    "a1_a2 = np.repeat([0.5, 2], a0.shape[0])\n",
    "x1_x2 = a1_a2.tolist()\n",
    "\n",
    "# a0の値に応じてソフトマックス関数を求めるため、行列を使用して値を計算する。\n",
    "\n",
    "# x0    = [-10 -9.5 -9    ... -0.5 0   0.5 1   ... 8.5 9   9.5]\n",
    "# x1_x2 = [0.5  0.5  0.5  ...  0.5 0.5 0.5 0.5 ... 0.5 0.5 0.5\n",
    "#          2    2    2    ...  2   2   2   2   ... 2   2   2]\n",
    "# x0 + x1_x2 は、上の2つのリストをつないでできるリストとなる。\n",
    "# 下のXは、そのリストから行数が3の行列を作っている。\n",
    "X = np.asarray(x0 + x1_x2).reshape(3, a0.shape[0])\n",
    "\n",
    "# pandas(Pythonでのデータ分析用ライブラリ)のDataFrameクラスのインスタンスを使って、\n",
    "# グラフ表示用のデータを作る。\n",
    "data = pd.DataFrame(X)\n",
    "# DataFrameクラスのapplyメソッドにより、行列の行ごと、または列ごとに関数を適用できる。\n",
    "# Xの各列にはa0, a1, a2の値が上の行から入っているため、下のようにsoftmax関数を適用すると、\n",
    "# 1行目はsoftmax(a0), 2行目はsoftmax(a1), 3行目はsoftmax(a2)の計算結果が入る。\n",
    "Y = np.asarray(data.apply(softmax))\n",
    "\n",
    "# 計算結果をグラフにプロットする。\n",
    "plt.plot(a0, Y[0], label=\"softmax(a0)\")\n",
    "plt.plot(a0, Y[1], label=\"softmax(a1=0.5)\")\n",
    "plt.plot(a0, Y[2], label=\"softmax(a2=2)\")\n",
    "\n",
    "# グラフの題名を定める。\n",
    "plt.title(\"Softmax function\")\n",
    "# 凡例を表示する。\n",
    "plt.legend(bbox_to_anchor=(1.05, 1), loc='upper left', borderaxespad=0)\n",
    "\n",
    "# ラベルを表示する。\n",
    "plt.xlabel(\"a0\")\n",
    "plt.ylabel(\"y\")\n",
    "\n",
    "# グラフを表示する。\n",
    "plt.show()"
   ]
  },
  {
   "cell_type": "code",
   "execution_count": 14,
   "metadata": {},
   "outputs": [
    {
     "name": "stdout",
     "output_type": "stream",
     "text": [
      "input = [[134.39582317  65.28717013  17.27790459  65.2430538  117.58613498\n",
      "   92.40533918   5.75652515 110.65622736 149.38742709  27.11482776]]\n",
      "output = [[3.08481418e-07 2.99035220e-37 4.22243755e-58 2.86129648e-37\n",
      "  1.54480685e-14 1.79057914e-25 4.18689167e-63 1.51096201e-17\n",
      "  9.99999692e-01 7.90104776e-54]]\n",
      "argmax(original) = 8\n",
      "argmax(softmax) = 8\n"
     ]
    }
   ],
   "source": [
    "# 分類問題における出力の求め方\n",
    "# 最後の中間層の出力に対してsoftmax関数を適用し、最大値の要素に対応する項目を出力とする。\n",
    "\n",
    "# 要素数が10の入力値をランダムに生成する。\n",
    "array3 = 50 * np.random.randn(1, 10) + 100\n",
    "softmax3 = softmax(array3)\n",
    "\n",
    "print(\"input = {0}\".format(array3))\n",
    "print(\"output = {0}\".format(softmax3))\n",
    "\n",
    "# 最大値の要素のインデックスを取得する。\n",
    "max3_original = np.argmax(array3)\n",
    "max3_softmax = np.argmax(softmax3)\n",
    "print(\"argmax(original) = {0}\".format(max3_original))\n",
    "print(\"argmax(softmax) = {0}\".format(max3_softmax))\n"
   ]
  },
  {
   "cell_type": "code",
   "execution_count": 18,
   "metadata": {},
   "outputs": [
    {
     "name": "stdout",
     "output_type": "stream",
     "text": [
      "index = 0, diff = 1.9999987660744876\n",
      "index = 1, diff = 1.9999993830373235\n",
      "index = 2, diff = 1.9999993830373235\n",
      "index = 3, diff = 1.9999993830373235\n",
      "index = 4, diff = 1.9999993830372929\n",
      "index = 5, diff = 1.9999993830373235\n",
      "index = 6, diff = 1.9999993830373235\n",
      "index = 7, diff = 1.9999993830373235\n",
      "index = 8, diff = 1.903215799954053e-13\n",
      "index = 9, diff = 1.9999993830373235\n"
     ]
    }
   ],
   "source": [
    "# 入力データから出力を推測する場合には、softmax関数の適用は不要。\n",
    "# 学習の際には、入力データからの出力と正解を比較したときの誤差を考慮するため、softmax関数が必要となる。\n",
    "\n",
    "# 学習用のデータに置いて、分類問題の正解を表現する方法として、one-hot-vector がある。\n",
    "# one-hot-vector は、正解に対応するインデックスの要素のみ1で、それ以外の要素が0となる。\n",
    "\n",
    "for i in range(10):\n",
    "    answer = np.asarray([[0, 0, 0, 0, 0, 0, 0, 0, 0, 0]])\n",
    "    answer[0][i] = 1\n",
    "    # softmax関数の適用結果との誤差を求める。\n",
    "    diff = answer - softmax3\n",
    "    print(\"index = {0}, diff = {1}\".format(i, np.sum(diff * diff)))\n"
   ]
  },
  {
   "cell_type": "code",
   "execution_count": null,
   "metadata": {},
   "outputs": [],
   "source": []
  }
 ],
 "metadata": {
  "kernelspec": {
   "display_name": "Python 3",
   "language": "python",
   "name": "python3"
  },
  "language_info": {
   "codemirror_mode": {
    "name": "ipython",
    "version": 3
   },
   "file_extension": ".py",
   "mimetype": "text/x-python",
   "name": "python",
   "nbconvert_exporter": "python",
   "pygments_lexer": "ipython3",
   "version": "3.7.1"
  }
 },
 "nbformat": 4,
 "nbformat_minor": 2
}
