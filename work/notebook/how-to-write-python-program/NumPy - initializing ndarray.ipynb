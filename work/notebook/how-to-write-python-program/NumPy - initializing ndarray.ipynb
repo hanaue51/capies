{
 "cells": [
  {
   "cell_type": "code",
   "execution_count": null,
   "metadata": {},
   "outputs": [],
   "source": [
    "import numpy as np"
   ]
  },
  {
   "cell_type": "code",
   "execution_count": null,
   "metadata": {},
   "outputs": [],
   "source": [
    "# 1次元配列の初期化\n",
    "# zeros: すべての要素が0の配列をつくる。\n",
    "# 要素の値は浮動小数点数(float)となる。\n",
    "array0 = np.zeros(5)\n",
    "print(array0)"
   ]
  },
  {
   "cell_type": "code",
   "execution_count": null,
   "metadata": {},
   "outputs": [],
   "source": [
    "# ones: すべての要素が1の配列をつくる。\n",
    "# 第2引数で要素の値の方を指定できる。\n",
    "# 下の例では、要素の値を整数(int)としている。\n",
    "array1 = np.ones(4, dtype=np.int)\n",
    "print(array1)"
   ]
  },
  {
   "cell_type": "code",
   "execution_count": null,
   "metadata": {},
   "outputs": [],
   "source": [
    "# asarray: リストから配列をつくる。\n",
    "array2 = np.asarray([1, 2, 3, 4, 5])\n",
    "print(array2)"
   ]
  },
  {
   "cell_type": "code",
   "execution_count": null,
   "metadata": {},
   "outputs": [],
   "source": [
    "# repeat: 同じ値を持つ配列をつくる。\n",
    "# 第1引数: 値, 第2引数: 要素の数\n",
    "array3 = np.repeat(0.5, 6)\n",
    "print(array3)"
   ]
  },
  {
   "cell_type": "code",
   "execution_count": null,
   "metadata": {},
   "outputs": [],
   "source": [
    "# arange: 指定した範囲の要素を持つ配列をつくる。\n",
    "# 0以上20未満で、連続した整数を要素に持つ配列をつくる。\n",
    "array4 = np.arange(20)\n",
    "# 0以上20未満で、2ずつ増える整数を要素に持つ配列をつくる。\n",
    "array5 = np.arange(0, 20, 2)\n",
    "print(array4)\n",
    "print(array5)"
   ]
  },
  {
   "cell_type": "code",
   "execution_count": null,
   "metadata": {},
   "outputs": [],
   "source": [
    "# 2次元配列(行列)の初期化\n",
    "# 要素がすべての0の2*3行列(要素数が3の配列が2つある配列)をつくる。\n",
    "array00 = np.zeros((2, 3), dtype=np.int)\n",
    "print(array00)"
   ]
  },
  {
   "cell_type": "code",
   "execution_count": null,
   "metadata": {},
   "outputs": [],
   "source": [
    "# リストから2次元配列をつくる。\n",
    "array01 = np.asarray([[1, 2, 3], [4, 5, 6]])\n",
    "print(array01)"
   ]
  },
  {
   "cell_type": "code",
   "execution_count": null,
   "metadata": {},
   "outputs": [],
   "source": [
    "# reshape: 配列を成型する。\n",
    "# 下の例では、要素数が9の1次元配列を、3*3行列(2次元配列)に成型する。\n",
    "# np.arange(9) => [0 1 2 3 4 5 6 7 8]\n",
    "array02 = np.arange(9).reshape(3, 3)\n",
    "print(array02)"
   ]
  },
  {
   "cell_type": "code",
   "execution_count": null,
   "metadata": {},
   "outputs": [],
   "source": [
    "# shape: 2次元配列の行と列の数を取得する。\n",
    "# 結果は行数、列数のタプルとして得られる。\n",
    "# 1次元配列の場合、列数(要素数)のみのタプルが得られる。\n",
    "array6 = np.arange(20)\n",
    "print(array6.shape)"
   ]
  },
  {
   "cell_type": "code",
   "execution_count": null,
   "metadata": {},
   "outputs": [],
   "source": [
    "# 行数4, 列数5\n",
    "array03 = np.arange(20).reshape(4, 5)\n",
    "print(array03.shape)"
   ]
  },
  {
   "cell_type": "code",
   "execution_count": null,
   "metadata": {},
   "outputs": [],
   "source": []
  }
 ],
 "metadata": {
  "kernelspec": {
   "display_name": "Python 3",
   "language": "python",
   "name": "python3"
  },
  "language_info": {
   "codemirror_mode": {
    "name": "ipython",
    "version": 3
   },
   "file_extension": ".py",
   "mimetype": "text/x-python",
   "name": "python",
   "nbconvert_exporter": "python",
   "pygments_lexer": "ipython3",
   "version": "3.8.8"
  }
 },
 "nbformat": 4,
 "nbformat_minor": 4
}
