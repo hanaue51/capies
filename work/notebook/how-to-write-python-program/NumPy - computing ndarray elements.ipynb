{
 "cells": [
  {
   "cell_type": "code",
   "execution_count": null,
   "metadata": {},
   "outputs": [],
   "source": [
    "import numpy as np"
   ]
  },
  {
   "cell_type": "code",
   "execution_count": null,
   "metadata": {},
   "outputs": [],
   "source": [
    "# 配列要素を使った計算\n",
    "\n",
    "# 要素数12の1次元配列\n",
    "array0 = np.arange(12)\n",
    "print(\"1次元配列:\")\n",
    "print(array0)\n",
    "# 要素数12の3*4行列\n",
    "array00 = np.arange(12).reshape(3, 4)\n",
    "print(\"3*4行列:\")\n",
    "print(array00)"
   ]
  },
  {
   "cell_type": "code",
   "execution_count": null,
   "metadata": {
    "scrolled": true
   },
   "outputs": [],
   "source": [
    "# すべての要素に同じ値を足す。\n",
    "print(\"1次元配列:\")\n",
    "print(array0 + 1)\n",
    "print(\"3*4行列:\")\n",
    "print(array00 + 1)"
   ]
  },
  {
   "cell_type": "code",
   "execution_count": null,
   "metadata": {},
   "outputs": [],
   "source": [
    "# すべての要素に同じ値を掛ける。\n",
    "print(\"1次元配列:\")\n",
    "print(array0 * 10)\n",
    "print(\"3*4行列:\")\n",
    "print(array00 * 10)"
   ]
  },
  {
   "cell_type": "code",
   "execution_count": null,
   "metadata": {},
   "outputs": [],
   "source": [
    "# 特定の要素だけを計算する。\n",
    "print(\"1次元配列: 5番目の要素のみ計算\")\n",
    "print(array0[5] + 10)\n",
    "\n",
    "print(\"3*4行列: 1行目の3列目の要素のみ計算\")\n",
    "print(array00[1][3] - 5)\n",
    "\n",
    "print(\"3*4行列: 1行目の要素のみ計算\")\n",
    "print(array00[1, :] * 10)\n",
    "\n",
    "print(\"3*4行列: 3列目の要素のみ計算\")\n",
    "print(array00[:, 3] // 4)"
   ]
  },
  {
   "cell_type": "code",
   "execution_count": null,
   "metadata": {},
   "outputs": [],
   "source": [
    "# 行と列の数が同じ行列どうしの計算\n",
    "# 2つの行列の行数と列数が等しいとき、要素別の計算(同じ場所にある要素どうしの計算)ができる。\n",
    "arrayA = np.asarray([[1, 2, 3], [4 ,5, 6]])\n",
    "arrayB = np.asarray([[10, 20, 30], [40, 50, 60]])\n",
    "print(arrayA)\n",
    "print(arrayB)"
   ]
  },
  {
   "cell_type": "code",
   "execution_count": null,
   "metadata": {},
   "outputs": [],
   "source": [
    "# 行列の要素どうしの足し算\n",
    "print(arrayA + arrayB)\n",
    "\n",
    "# 行列の要素どうしの掛け算\n",
    "print(arrayA * arrayB)\n",
    "\n",
    "# 2つの行列の行、列いずれかが異なると計算できないため、エラー(ValueError)が起こる。"
   ]
  },
  {
   "cell_type": "code",
   "execution_count": null,
   "metadata": {},
   "outputs": [],
   "source": [
    "# 行列の要素の和を求める\n",
    "arrayC = np.arange(1, 21).reshape(4, 5)\n",
    "print(arrayC)\n",
    "# すべての要素の和を求める\n",
    "print(np.sum(arrayC))"
   ]
  },
  {
   "cell_type": "code",
   "execution_count": null,
   "metadata": {},
   "outputs": [],
   "source": [
    "# 2行目の要素の和を求める (11 + 12 + 13 + 14 + 15 = 65)\n",
    "print(np.sum(arrayC[2, :]))\n",
    "\n",
    "# 3列目の要素の和を求める (4 + 9 + 14 + 19 = 46)\n",
    "print(np.sum(arrayC[:, 3]))"
   ]
  },
  {
   "cell_type": "code",
   "execution_count": null,
   "metadata": {},
   "outputs": [],
   "source": [
    "# ベクトルの内積を求める\n",
    "# 要素数が同じ2つのベクトル(1次元配列)に対して、\n",
    "# 番号が同じ要素どうしを掛け、それらを合計したものを内積と呼ぶ。\n",
    "# 例: a = [1 2 3], b = [5 6 7] のとき、aとbの内積は、\n",
    "#     1 * 5 + 2 * 6 + 3 * 7 = 5 + 12 + 21 = 38\n",
    "a = np.asarray([1, 2, 3])\n",
    "b = np.asarray([5, 6, 7])\n",
    "print(a @ b)"
   ]
  },
  {
   "cell_type": "code",
   "execution_count": null,
   "metadata": {},
   "outputs": [],
   "source": [
    "# 2つのベクトルがどちらも零ベクトル(成分がすべて0のベクトル)でなく、\n",
    "# かつそれらのベクトルの内積が0のとき、2つのベクトルは「直交する」という。\n",
    "v0 = np.asarray([-1, 4, 1])\n",
    "v1 = np.asarray([2, 1, -2])\n",
    "# v0とv1の内積は0となるので、v0とv1は直交する。\n",
    "print(v0 @ v1)"
   ]
  },
  {
   "cell_type": "code",
   "execution_count": null,
   "metadata": {},
   "outputs": [],
   "source": [
    "# 行列積を求める\n",
    "#\n",
    "# 2つの行列A, Bに対して、Aの列数=Bの行数 のとき、AとBの行列積を求めることができる。\n",
    "# このとき、行列積の結果は、行数=Aの行数、列数=Bの列数の行列となる。\n",
    "# 例: A:2行3列, B: 3行4列のとき、AとBの行列積を求めることができ、結果は2行4列となる。\n",
    "#     A:1行3列, B: 3行2列のとき、AとBの行列積を求めることができ、結果は1行2列となる。\n",
    "#     A:2行3列, B: 2行3列のとき、Aの列数とBの行数が異なるため、行列積を求めることができない。\n",
    "\n",
    "A = np.asarray([[1, 2, 3, 4], [5, 6, 7, 8]])\n",
    "print(\"A: {0}行{1}列\".format(A.shape[0], A.shape[1]))\n",
    "print(A)\n",
    "\n",
    "B = np.asarray([[1, 4, -1], [1, 3, -1], [1, 2, -1], [1, 1, -1]])\n",
    "print(\"B: {0}行{1}列\".format(B.shape[0], B.shape[1]))\n",
    "print(B)\n",
    "\n",
    "# 上の例では、Aが2行4列でBが4行3列なので、Aの列数=Bの行数となる。\n",
    "# このため、AとBの行列積を求めることができ、その結果は2行3列となる。\n",
    "\n",
    "P = A @ B\n",
    "print(\"P: {0}行{1}列\".format(P.shape[0], P.shape[1]))\n",
    "print(P)"
   ]
  },
  {
   "cell_type": "code",
   "execution_count": null,
   "metadata": {},
   "outputs": [],
   "source": [
    "# 行列積の要素は、Aのi番目の行ベクトル(i番目の行)と、Bのj番目の列ベクトル(j番目の列)の内積となる。\n",
    "# 例: A:2行4列, B: 4行3列のとき、AとBの行列積は2行3列となる。\n",
    "#     行列積の要素は以下の通りとなる。\n",
    "#     0行目: [Aの0行目とBの0列目の内積 Aの0行目とBの1列目の内積 Aの0行目とBの2列目の内積]\n",
    "#     1行目: [Aの1行目とBの0列目の内積 Aの1行目のBの1列目の内積 Aの1行目とBの2列目の内積]\n",
    "\n",
    "for i in range(P.shape[0]):\n",
    "    for j in range(P.shape[1]):\n",
    "        # Aのi行目\n",
    "        row_i = A[i, :]\n",
    "        # Bのj列目\n",
    "        col_j = B[:, j]\n",
    "        print(\"Aの{0}行目: {1}\".format(i, row_i))\n",
    "        print(\"Bの{0}列目: {1}\".format(j, col_j))\n",
    "        print(\"    => Pの{0}行{1}列目の成分: {2}\".format(i, j, row_i @ col_j))"
   ]
  },
  {
   "cell_type": "code",
   "execution_count": null,
   "metadata": {},
   "outputs": [],
   "source": [
    "# 行と列の数が等しい行列を、正方行列という。\n",
    "# 行と列の数がnである正方行列は、n次の正方行列ともいう。\n",
    "# 正方行列のうち、対角要素(行番号と列番号が同じ要素)が1で、それ以外の要素が0の行列を、単位行列という。\n",
    "# 下の例では、3次の単位行列をつくっている。\n",
    "I3 = np.eye(3, dtype=int)\n",
    "print(I3)"
   ]
  },
  {
   "cell_type": "code",
   "execution_count": null,
   "metadata": {},
   "outputs": [],
   "source": [
    "# ある行列と単位行列との行列積は、もとの行列と等しい。\n",
    "A3 = np.asarray([[1, 7, 4], [8, 5, 2], [6, 3, 9]])\n",
    "print(A3)\n",
    "print(A3 @ I3)"
   ]
  },
  {
   "cell_type": "code",
   "execution_count": null,
   "metadata": {},
   "outputs": [],
   "source": []
  }
 ],
 "metadata": {
  "kernelspec": {
   "display_name": "Python 3",
   "language": "python",
   "name": "python3"
  },
  "language_info": {
   "codemirror_mode": {
    "name": "ipython",
    "version": 3
   },
   "file_extension": ".py",
   "mimetype": "text/x-python",
   "name": "python",
   "nbconvert_exporter": "python",
   "pygments_lexer": "ipython3",
   "version": "3.8.8"
  }
 },
 "nbformat": 4,
 "nbformat_minor": 4
}
