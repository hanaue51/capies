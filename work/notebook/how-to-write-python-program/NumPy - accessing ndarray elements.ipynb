{
 "cells": [
  {
   "cell_type": "code",
   "execution_count": null,
   "metadata": {},
   "outputs": [],
   "source": [
    "import numpy as np"
   ]
  },
  {
   "cell_type": "code",
   "execution_count": null,
   "metadata": {},
   "outputs": [],
   "source": [
    "# 配列要素へのアクセス\n",
    "# a[i, j]とすると、配列aのi行目にある、j列目の要素を参照できる。\n",
    "array0 = np.arange(15).reshape(3, 5)\n",
    "print(array0)"
   ]
  },
  {
   "cell_type": "code",
   "execution_count": null,
   "metadata": {},
   "outputs": [],
   "source": [
    "# array0の0行目([0 1 2 3 4])にある、2列目の要素(2)を取得する。\n",
    "print(array0[0, 2])\n",
    "# array0の2行目([10 11 12 13 14])にある、3列目の要素(13)を取得する。\n",
    "print(array0[2, 3])"
   ]
  },
  {
   "cell_type": "code",
   "execution_count": null,
   "metadata": {},
   "outputs": [],
   "source": [
    "# array0の1行目の要素をすべて取得する。\n",
    "print(array0[1])"
   ]
  },
  {
   "cell_type": "code",
   "execution_count": null,
   "metadata": {},
   "outputs": [],
   "source": [
    "# スライス表記を使って、要素の取得範囲を指定できる。\n",
    "# スライス表記では : を使って範囲を指定する。\n",
    "# a:b ... a番目からb-1番目まで\n",
    "# a:  ... a番目から最後まで\n",
    "# :b  ... 最初からb-1番目まで\n",
    "# :   ... 最初から最後まで\n",
    "\n",
    "# array0の1行目にあるすべての要素は、下のように取得することもできる。\n",
    "print(array0[1, :])"
   ]
  },
  {
   "cell_type": "code",
   "execution_count": null,
   "metadata": {},
   "outputs": [],
   "source": [
    "# array0の1行目にある要素で、1番目から3番目までの要素を取得する。\n",
    "print(array0[1, 1:4])\n",
    "# array0の1行目にある要素で、1番目から最後までの要素を取得する。\n",
    "print(array0[1, 1:])\n",
    "# array0の1行目にある要素で、最初から3番目までの要素を取得する。\n",
    "print(array0[1, :3])"
   ]
  },
  {
   "cell_type": "code",
   "execution_count": null,
   "metadata": {},
   "outputs": [],
   "source": [
    "# array0の0行目から1行目までの要素を取得する。\n",
    "print(array0[0:2])\n",
    "print(array0[0:2, :])"
   ]
  },
  {
   "cell_type": "code",
   "execution_count": null,
   "metadata": {},
   "outputs": [],
   "source": [
    "# array0の2列目の要素を取得する。\n",
    "print(array0[:, 2])"
   ]
  },
  {
   "cell_type": "code",
   "execution_count": null,
   "metadata": {},
   "outputs": [],
   "source": [
    "# array0の0行目、3番目の要素を書き換える。\n",
    "print(\"Before\")\n",
    "print(array0)\n",
    "\n",
    "array0[0, 3] = 30\n",
    "print(\"After\")\n",
    "print(array0)"
   ]
  },
  {
   "cell_type": "code",
   "execution_count": null,
   "metadata": {},
   "outputs": [],
   "source": [
    "# array0の1行目の要素を書き換える。\n",
    "print(\"Before\")\n",
    "print(array0)\n",
    "\n",
    "array0[1, :] = 50\n",
    "print(\"After\")\n",
    "print(array0)"
   ]
  },
  {
   "cell_type": "code",
   "execution_count": null,
   "metadata": {},
   "outputs": [],
   "source": [
    "# array0の2列目の要素を書き換える。\n",
    "print(\"Before\")\n",
    "print(array0)\n",
    "\n",
    "array0[:, 2] = -2\n",
    "print(\"After\")\n",
    "print(array0)"
   ]
  },
  {
   "cell_type": "code",
   "execution_count": null,
   "metadata": {},
   "outputs": [],
   "source": []
  }
 ],
 "metadata": {
  "kernelspec": {
   "display_name": "Python 3",
   "language": "python",
   "name": "python3"
  },
  "language_info": {
   "codemirror_mode": {
    "name": "ipython",
    "version": 3
   },
   "file_extension": ".py",
   "mimetype": "text/x-python",
   "name": "python",
   "nbconvert_exporter": "python",
   "pygments_lexer": "ipython3",
   "version": "3.8.8"
  }
 },
 "nbformat": 4,
 "nbformat_minor": 4
}
