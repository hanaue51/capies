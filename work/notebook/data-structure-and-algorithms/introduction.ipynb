{
 "cells": [
  {
   "cell_type": "code",
   "execution_count": 2,
   "metadata": {},
   "outputs": [
    {
     "name": "stdout",
     "output_type": "stream",
     "text": [
      "['明治', '大正', '昭和', '平成']\n"
     ]
    }
   ],
   "source": [
    "# Python の配列(リスト)\n",
    "a = [1, 3, 5, 7, 9]\n",
    "gengo = [\"明治\", \"大正\", \"昭和\", \"平成\"]\n",
    "print(gengo)"
   ]
  },
  {
   "cell_type": "code",
   "execution_count": 3,
   "metadata": {},
   "outputs": [
    {
     "name": "stdout",
     "output_type": "stream",
     "text": [
      "['明治', '大正', '昭和', '平成', '令和']\n"
     ]
    }
   ],
   "source": [
    "# 配列への要素の追加\n",
    "gengo.append(\"令和\")\n",
    "print(gengo)"
   ]
  },
  {
   "cell_type": "code",
   "execution_count": 5,
   "metadata": {},
   "outputs": [
    {
     "name": "stdout",
     "output_type": "stream",
     "text": [
      "2\n",
      "True\n",
      "False\n"
     ]
    }
   ],
   "source": [
    "# 配列に要素があるかどうかを調べる\n",
    "print(a.index(5))\n",
    "print(5 in a)\n",
    "\n",
    "# 要素がない場合、indexメソッドを呼ぶとValueErrorになる\n",
    "print(6 in a)\n",
    "# print(a.index(6))"
   ]
  },
  {
   "cell_type": "code",
   "execution_count": 10,
   "metadata": {},
   "outputs": [
    {
     "name": "stdout",
     "output_type": "stream",
     "text": [
      "5\n"
     ]
    }
   ],
   "source": [
    "# 配列の要素数を求める\n",
    "print(len(a))"
   ]
  },
  {
   "cell_type": "code",
   "execution_count": 11,
   "metadata": {},
   "outputs": [
    {
     "name": "stdout",
     "output_type": "stream",
     "text": [
      "令和\n"
     ]
    }
   ],
   "source": [
    "# 配列の最後の要素を求める\n",
    "print(gengo[-1])"
   ]
  },
  {
   "cell_type": "code",
   "execution_count": null,
   "metadata": {},
   "outputs": [],
   "source": []
  }
 ],
 "metadata": {
  "kernelspec": {
   "display_name": "Python 3",
   "language": "python",
   "name": "python3"
  },
  "language_info": {
   "codemirror_mode": {
    "name": "ipython",
    "version": 3
   },
   "file_extension": ".py",
   "mimetype": "text/x-python",
   "name": "python",
   "nbconvert_exporter": "python",
   "pygments_lexer": "ipython3",
   "version": "3.7.1"
  }
 },
 "nbformat": 4,
 "nbformat_minor": 2
}
