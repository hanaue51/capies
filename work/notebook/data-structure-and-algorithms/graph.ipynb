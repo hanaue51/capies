{
 "cells": [
  {
   "cell_type": "code",
   "execution_count": 1,
   "metadata": {},
   "outputs": [],
   "source": [
    "# 配列によるグラフの表現\n",
    "\n",
    "# ノード\n",
    "nodes = [ \"A\", \"B\", \"C\", \"D\", \"E\", \"F\" ]\n",
    "\n",
    "# リンク\n",
    "# nodesリストのi番目のノードからj番目へのノードにリンクがあるとき、\n",
    "# i番目のリストにあるj番目の要素を1にする。\n",
    "# それ以外の要素は0にする。\n",
    "links = [\n",
    "    [0, 1, 1, 0, 0, 0],\n",
    "    [0, 0, 1, 1, 1, 0],\n",
    "    [0, 0, 0, 0, 1, 0],\n",
    "    [0, 0, 0, 0, 0, 1],\n",
    "    [0, 0, 0, 1, 0, 1],\n",
    "    [0, 0, 0, 0, 0, 0]\n",
    "]\n"
   ]
  },
  {
   "cell_type": "code",
   "execution_count": 7,
   "metadata": {},
   "outputs": [
    {
     "name": "stdout",
     "output_type": "stream",
     "text": [
      "True\n",
      "False\n"
     ]
    }
   ],
   "source": [
    "indexA = nodes.index(\"A\")\n",
    "indexC = nodes.index(\"C\")\n",
    "indexE = nodes.index(\"E\")\n",
    "\n",
    "# AからCへのリンクがあるか調べる\n",
    "print(links[indexA][indexC] == 1)\n",
    "\n",
    "# AからEへのリンクがあるか調べる\n",
    "print(links[indexA][indexE] == 1)"
   ]
  },
  {
   "cell_type": "code",
   "execution_count": 5,
   "metadata": {},
   "outputs": [],
   "source": [
    "# 連想配列によるグラフ表現\n",
    "# key: グラフのノード\n",
    "# value: keyのノードを始点とするリンクの終点のリスト\n",
    "graph = {\n",
    "    \"A\": [ \"B\", \"C\" ],\n",
    "    \"B\": [ \"C\", \"D\", \"E\" ],\n",
    "    \"C\": [ \"E\" ],\n",
    "    \"D\": [ \"F\" ],\n",
    "    \"E\": [ \"D\", \"F\" ],\n",
    "    \"F\": []\n",
    "}"
   ]
  },
  {
   "cell_type": "code",
   "execution_count": 6,
   "metadata": {},
   "outputs": [
    {
     "name": "stdout",
     "output_type": "stream",
     "text": [
      "True\n",
      "False\n"
     ]
    }
   ],
   "source": [
    "# AからCへのリンクがあるか調べる\n",
    "print(\"C\" in graph[\"A\"])\n",
    "\n",
    "# AからEへのリンクがあるか調べる\n",
    "print(\"E\" in graph[\"A\"])\n"
   ]
  },
  {
   "cell_type": "code",
   "execution_count": null,
   "metadata": {},
   "outputs": [],
   "source": []
  }
 ],
 "metadata": {
  "kernelspec": {
   "display_name": "Python 3",
   "language": "python",
   "name": "python3"
  },
  "language_info": {
   "codemirror_mode": {
    "name": "ipython",
    "version": 3
   },
   "file_extension": ".py",
   "mimetype": "text/x-python",
   "name": "python",
   "nbconvert_exporter": "python",
   "pygments_lexer": "ipython3",
   "version": "3.7.10"
  }
 },
 "nbformat": 4,
 "nbformat_minor": 2
}
